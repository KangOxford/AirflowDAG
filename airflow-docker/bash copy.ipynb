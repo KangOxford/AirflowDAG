{
 "cells": [
  {
   "cell_type": "code",
   "execution_count": 1,
   "metadata": {},
   "outputs": [
    {
     "name": "stdout",
     "output_type": "stream",
     "text": [
      "Reading package lists... Done\n",
      "Building dependency tree       \n",
      "Reading state information... Done\n",
      "Package docker-engine is not available, but is referred to by another package.\n",
      "This may mean that the package is missing, has been obsoleted, or\n",
      "is only available from another source\n",
      "However the following packages replace it:\n",
      "  docker-ce\n",
      "\n",
      "E: Package 'docker-engine' has no installation candidate\n"
     ]
    }
   ],
   "source": [
    "!sudo apt-get install docker-engine -y"
   ]
  },
  {
   "cell_type": "code",
   "execution_count": 9,
   "metadata": {},
   "outputs": [
    {
     "name": "stdout",
     "output_type": "stream",
     "text": [
      "--2022-05-28 00:14:43--  https://desktop.docker.com/linux/main/amd64/docker-desktop-4.8.1-amd64.deb?utm_source=docker&utm_medium=webreferral&utm_campaign=docs-driven-download-linux-amd64\n",
      "Resolving desktop.docker.com (desktop.docker.com)... 99.86.4.36, 99.86.4.71, 99.86.4.117, ...\n",
      "Connecting to desktop.docker.com (desktop.docker.com)|99.86.4.36|:443... connected.\n",
      "HTTP request sent, awaiting response... 200 OK\n",
      "Length: 388679164 (371M)\n",
      "Saving to: ‘docker-desktop-4.8.1-amd64.deb?utm_source=docker&utm_medium=webreferral&utm_campaign=docs-driven-download-linux-amd64’\n",
      "\n",
      "docker-desktop-4.8. 100%[===================>] 370.67M  92.4MB/s    in 4.1s    \n",
      "\n",
      "2022-05-28 00:14:47 (90.7 MB/s) - ‘docker-desktop-4.8.1-amd64.deb?utm_source=docker&utm_medium=webreferral&utm_campaign=docs-driven-download-linux-amd64’ saved [388679164/388679164]\n",
      "\n"
     ]
    }
   ],
   "source": [
    "!wget \"https://desktop.docker.com/linux/main/amd64/docker-desktop-4.8.1-amd64.deb?utm_source=docker&utm_medium=webreferral&utm_campaign=docs-driven-download-linux-amd64\""
   ]
  },
  {
   "cell_type": "code",
   "execution_count": 19,
   "metadata": {},
   "outputs": [
    {
     "name": "stdout",
     "output_type": "stream",
     "text": [
      "airflow-tutorial  bash.sh\t\t\t  README.md\n",
      "bash.ipynb\t  docker-desktop-4.8.1-amd64.deb\n"
     ]
    }
   ],
   "source": [
    "!ls"
   ]
  },
  {
   "cell_type": "code",
   "execution_count": 24,
   "metadata": {},
   "outputs": [
    {
     "name": "stdout",
     "output_type": "stream",
     "text": [
      "Selecting previously unselected package docker-desktop.\n",
      "(Reading database ... 36033 files and directories currently installed.)\n",
      "Preparing to unpack docker-desktop-4.8.1-amd64.deb ...\n",
      "Unpacking docker-desktop (4.8.1-78998) ...\n",
      "\u001b[1mdpkg:\u001b[0m dependency problems prevent configuration of docker-desktop:\n",
      " docker-desktop depends on qemu-system-x86 (>= 5.2.0); however:\n",
      "  Package qemu-system-x86 is not installed.\n",
      " docker-desktop depends on docker-ce-cli; however:\n",
      "  Package docker-ce-cli is not installed.\n",
      " docker-desktop depends on pass; however:\n",
      "  Package pass is not installed.\n",
      " docker-desktop depends on desktop-file-utils; however:\n",
      "  Package desktop-file-utils is not installed.\n",
      " docker-desktop depends on libgtk-3-0; however:\n",
      "  Package libgtk-3-0 is not installed.\n",
      " docker-desktop depends on libx11-xcb1; however:\n",
      "  Package libx11-xcb1 is not installed.\n",
      "\n",
      "\u001b[1mdpkg:\u001b[0m error processing package docker-desktop (--install):\n",
      " dependency problems - leaving unconfigured\n",
      "Processing triggers for mime-support (3.64ubuntu1) ...\n",
      "Errors were encountered while processing:\n",
      " docker-desktop\n"
     ]
    }
   ],
   "source": [
    "!sudo dpkg -i docker-desktop-4.8.1-amd64.deb"
   ]
  },
  {
   "cell_type": "code",
   "execution_count": 27,
   "metadata": {},
   "outputs": [
    {
     "name": "stdout",
     "output_type": "stream",
     "text": [
      "Reading package lists... Done\n",
      "Building dependency tree       \n",
      "Reading state information... Done\n",
      "Correcting dependencies... Done\n",
      "The following additional packages will be installed:\n",
      "  acl adwaita-icon-theme at-spi2-core cpu-checker desktop-file-utils\n",
      "  docker-ce-cli docker-scan-plugin gstreamer1.0-plugins-base\n",
      "  gstreamer1.0-plugins-good gstreamer1.0-x gtk-update-icon-cache\n",
      "  humanity-icon-theme ibverbs-providers ipxe-qemu\n",
      "  ipxe-qemu-256k-compat-efi-roms libaa1 libaio1 libasyncns0 libatk-bridge2.0-0\n",
      "  libatk1.0-0 libatk1.0-data libatspi2.0-0 libavahi-client3\n",
      "  libavahi-common-data libavahi-common3 libavc1394-0 libboost-iostreams1.71.0\n",
      "  libboost-thread1.71.0 libbrlapi0.7 libcaca0 libcacard0 libcdparanoia0\n",
      "  libcolord2 libcups2 libdrm-common libdrm2 libdv4 libepoxy0 libfdt1 libflac8\n",
      "  libgbm1 libgstreamer-plugins-base1.0-0 libgstreamer-plugins-good1.0-0\n",
      "  libgtk-3-0 libgtk-3-bin libgtk-3-common libgudev-1.0-0 libibverbs1\n",
      "  libiec61883-0 libiscsi7 libjack-jackd2-0 libjson-glib-1.0-0\n",
      "  libjson-glib-1.0-common libmp3lame0 libmpg123-0 libnl-3-200\n",
      "  libnl-route-3-200 libnspr4 libnss3 libnuma1 libopus0 liborc-0.4-0\n",
      "  libpcsclite1 libpmem1 libpulse0 libqrencode4 librados2 libraw1394-11 librbd1\n",
      "  librdmacm1 librest-0.7-0 libsamplerate0 libshout3 libslang2 libslirp0\n",
      "  libsndfile1 libsoup-gnome2.4-1 libspeex1 libspice-server1 libtag1v5\n",
      "  libtag1v5-vanilla libtheora0 libtwolame0 libusb-1.0-0 libusbredirparser1\n",
      "  libv4l-0 libv4lconvert0 libvirglrenderer1 libvisual-0.4-0 libvorbisenc2\n",
      "  libvpx6 libvte-2.91-0 libvte-2.91-common libwavpack1 libwayland-client0\n",
      "  libwayland-cursor0 libwayland-egl1 libwayland-server0 libwrap0 libx11-xcb1\n",
      "  libxcomposite1 libxcursor1 libxdamage1 libxfixes3 libxi6 libxinerama1\n",
      "  libxkbcommon0 libxmu6 libxmuu1 libxrandr2 libxtst6 libxv1 msr-tools ovmf\n",
      "  pass qemu-block-extra qemu-system-common qemu-system-data qemu-system-gui\n",
      "  qemu-system-x86 qemu-utils qrencode seabios sharutils tree ubuntu-mono xauth\n",
      "  xclip xkb-data\n",
      "Suggested packages:\n",
      "  gvfs colord cups-common libdv-bin oss-compat libvisual-0.4-plugins jackd2\n",
      "  opus-tools pcscd pulseaudio libraw1394-doc speex gstreamer1.0-plugins-ugly\n",
      "  python libxml-simple-perl ruby samba vde2 debootstrap sharutils-doc\n",
      "  bsd-mailx | mailx\n",
      "The following NEW packages will be installed:\n",
      "  acl adwaita-icon-theme at-spi2-core cpu-checker desktop-file-utils\n",
      "  docker-ce-cli docker-scan-plugin gstreamer1.0-plugins-base\n",
      "  gstreamer1.0-plugins-good gstreamer1.0-x gtk-update-icon-cache\n",
      "  humanity-icon-theme ibverbs-providers ipxe-qemu\n",
      "  ipxe-qemu-256k-compat-efi-roms libaa1 libaio1 libasyncns0 libatk-bridge2.0-0\n",
      "  libatk1.0-0 libatk1.0-data libatspi2.0-0 libavahi-client3\n",
      "  libavahi-common-data libavahi-common3 libavc1394-0 libboost-iostreams1.71.0\n",
      "  libboost-thread1.71.0 libbrlapi0.7 libcaca0 libcacard0 libcdparanoia0\n",
      "  libcolord2 libcups2 libdrm-common libdrm2 libdv4 libepoxy0 libfdt1 libflac8\n",
      "  libgbm1 libgstreamer-plugins-base1.0-0 libgstreamer-plugins-good1.0-0\n",
      "  libgtk-3-0 libgtk-3-bin libgtk-3-common libgudev-1.0-0 libibverbs1\n",
      "  libiec61883-0 libiscsi7 libjack-jackd2-0 libjson-glib-1.0-0\n",
      "  libjson-glib-1.0-common libmp3lame0 libmpg123-0 libnl-3-200\n",
      "  libnl-route-3-200 libnspr4 libnss3 libnuma1 libopus0 liborc-0.4-0\n",
      "  libpcsclite1 libpmem1 libpulse0 libqrencode4 librados2 libraw1394-11 librbd1\n",
      "  librdmacm1 librest-0.7-0 libsamplerate0 libshout3 libslang2 libslirp0\n",
      "  libsndfile1 libsoup-gnome2.4-1 libspeex1 libspice-server1 libtag1v5\n",
      "  libtag1v5-vanilla libtheora0 libtwolame0 libusb-1.0-0 libusbredirparser1\n",
      "  libv4l-0 libv4lconvert0 libvirglrenderer1 libvisual-0.4-0 libvorbisenc2\n",
      "  libvpx6 libvte-2.91-0 libvte-2.91-common libwavpack1 libwayland-client0\n",
      "  libwayland-cursor0 libwayland-egl1 libwayland-server0 libwrap0 libx11-xcb1\n",
      "  libxcomposite1 libxcursor1 libxdamage1 libxfixes3 libxi6 libxinerama1\n",
      "  libxkbcommon0 libxmu6 libxmuu1 libxrandr2 libxtst6 libxv1 msr-tools ovmf\n",
      "  pass qemu-block-extra qemu-system-common qemu-system-data qemu-system-gui\n",
      "  qemu-system-x86 qemu-utils qrencode seabios sharutils tree ubuntu-mono xauth\n",
      "  xclip xkb-data\n",
      "0 upgraded, 129 newly installed, 0 to remove and 25 not upgraded.\n",
      "1 not fully installed or removed.\n",
      "Need to get 84.2 MB of archives.\n",
      "After this operation, 350 MB of additional disk space will be used.\n",
      "Do you want to continue? [Y/n] ^C\n"
     ]
    }
   ],
   "source": [
    "!sudo apt --fix-broken install"
   ]
  },
  {
   "cell_type": "code",
   "execution_count": 25,
   "metadata": {},
   "outputs": [
    {
     "name": "stdout",
     "output_type": "stream",
     "text": [
      "Reading package lists... Done\n",
      "Building dependency tree       \n",
      "Reading state information... Done\n",
      "You might want to run 'apt --fix-broken install' to correct these.\n",
      "The following packages have unmet dependencies:\n",
      " docker-desktop : Depends: qemu-system-x86 (>= 5.2.0) but it is not going to be installed\n",
      "                  Depends: pass but it is not going to be installed\n",
      "                  Depends: desktop-file-utils but it is not going to be installed\n",
      "                  Depends: libgtk-3-0 but it is not going to be installed\n",
      "                  Depends: libx11-xcb1 but it is not going to be installed\n",
      "E: Unmet dependencies. Try 'apt --fix-broken install' with no packages (or specify a solution).\n"
     ]
    }
   ],
   "source": [
    "!sudo apt-get install docker-ce-cli"
   ]
  },
  {
   "cell_type": "code",
   "execution_count": 7,
   "metadata": {},
   "outputs": [
    {
     "name": "stdout",
     "output_type": "stream",
     "text": [
      "NAME=\"Ubuntu\"\n",
      "VERSION=\"20.04.4 LTS (Focal Fossa)\"\n",
      "ID=ubuntu\n",
      "ID_LIKE=debian\n",
      "PRETTY_NAME=\"Ubuntu 20.04.4 LTS\"\n",
      "VERSION_ID=\"20.04\"\n",
      "HOME_URL=\"https://www.ubuntu.com/\"\n",
      "SUPPORT_URL=\"https://help.ubuntu.com/\"\n",
      "BUG_REPORT_URL=\"https://bugs.launchpad.net/ubuntu/\"\n",
      "PRIVACY_POLICY_URL=\"https://www.ubuntu.com/legal/terms-and-policies/privacy-policy\"\n",
      "VERSION_CODENAME=focal\n",
      "UBUNTU_CODENAME=focal\n"
     ]
    }
   ],
   "source": [
    "cat /etc/os-release"
   ]
  },
  {
   "cell_type": "code",
   "execution_count": 29,
   "metadata": {},
   "outputs": [
    {
     "name": "stdout",
     "output_type": "stream",
     "text": [
      "Reading package lists... Done\n",
      "Building dependency tree       \n",
      "Reading state information... Done\n",
      "Package 'docker-engine' is not installed, so not removed\n",
      "Package 'docker' is not installed, so not removed\n",
      "Package 'containerd' is not installed, so not removed\n",
      "Package 'runc' is not installed, so not removed\n",
      "Package 'docker.io' is not installed, so not removed\n",
      "0 upgraded, 0 newly installed, 0 to remove and 25 not upgraded.\n"
     ]
    }
   ],
   "source": [
    "!sudo apt-get remove docker docker-engine docker.io containerd runc"
   ]
  },
  {
   "cell_type": "code",
   "execution_count": 30,
   "metadata": {},
   "outputs": [
    {
     "name": "stdout",
     "output_type": "stream",
     "text": [
      "Hit:2 https://download.docker.com/linux/ubuntu focal InRelease                 \n",
      "Hit:3 http://ppa.launchpad.net/git-core/ppa/ubuntu focal InRelease             \n",
      "Hit:4 http://ppa.launchpad.net/ondrej/apache2/ubuntu focal InRelease           \n",
      "Hit:1 https://apt.llvm.org/focal llvm-toolchain-focal InRelease                \n",
      "Hit:5 http://ppa.launchpad.net/ondrej/nginx-mainline/ubuntu focal InRelease    \n",
      "Hit:6 http://ppa.launchpad.net/ondrej/php/ubuntu focal InRelease               \n",
      "Hit:7 http://archive.ubuntu.com/ubuntu focal InRelease                         \n",
      "Hit:8 http://security.ubuntu.com/ubuntu focal-security InRelease\n",
      "Get:9 http://archive.ubuntu.com/ubuntu focal-updates InRelease [114 kB]\n",
      "Get:10 http://archive.ubuntu.com/ubuntu focal-backports InRelease [108 kB]\n",
      "Fetched 222 kB in 1s (299 kB/s)    \n",
      "Reading package lists... Done\n",
      "Reading package lists... Done\n",
      "Building dependency tree       \n",
      "Reading state information... Done\n",
      "lsb-release is already the newest version (11.1.0ubuntu2).\n",
      "lsb-release set to manually installed.\n",
      "ca-certificates is already the newest version (20210119~20.04.2).\n",
      "curl is already the newest version (7.68.0-1ubuntu2.11).\n",
      "gnupg is already the newest version (2.2.19-3ubuntu2.1).\n",
      "0 upgraded, 0 newly installed, 0 to remove and 25 not upgraded.\n"
     ]
    }
   ],
   "source": [
    "!sudo apt-get update\n",
    "!sudo apt-get install \\\n",
    "    ca-certificates \\\n",
    "    curl \\\n",
    "    gnupg \\\n",
    "    lsb-release"
   ]
  },
  {
   "cell_type": "code",
   "execution_count": 31,
   "metadata": {},
   "outputs": [],
   "source": [
    "!sudo mkdir -p /etc/apt/keyrings"
   ]
  },
  {
   "cell_type": "code",
   "execution_count": 32,
   "metadata": {},
   "outputs": [],
   "source": [
    "!curl -fsSL https://download.docker.com/linux/ubuntu/gpg | sudo gpg --dearmor -o /etc/apt/keyrings/docker.gpg"
   ]
  },
  {
   "cell_type": "code",
   "execution_count": 33,
   "metadata": {},
   "outputs": [],
   "source": [
    "!echo \\\n",
    "  \"deb [arch=$(dpkg --print-architecture) signed-by=/etc/apt/keyrings/docker.gpg] https://download.docker.com/linux/ubuntu \\\n",
    "  $(lsb_release -cs) stable\" | sudo tee /etc/apt/sources.list.d/docker.list > /dev/null"
   ]
  },
  {
   "cell_type": "code",
   "execution_count": 34,
   "metadata": {},
   "outputs": [
    {
     "name": "stdout",
     "output_type": "stream",
     "text": [
      "Hit:2 http://ppa.launchpad.net/git-core/ppa/ubuntu focal InRelease             \n",
      "Hit:3 https://download.docker.com/linux/ubuntu focal InRelease                 \n",
      "Hit:4 http://ppa.launchpad.net/ondrej/apache2/ubuntu focal InRelease           \n",
      "Hit:5 http://ppa.launchpad.net/ondrej/nginx-mainline/ubuntu focal InRelease    \n",
      "Hit:1 https://apt.llvm.org/focal llvm-toolchain-focal InRelease                \n",
      "Hit:6 http://ppa.launchpad.net/ondrej/php/ubuntu focal InRelease               \n",
      "Hit:7 http://archive.ubuntu.com/ubuntu focal InRelease                         \n",
      "Hit:8 http://security.ubuntu.com/ubuntu focal-security InRelease\n",
      "Get:9 http://archive.ubuntu.com/ubuntu focal-updates InRelease [114 kB]\n",
      "Get:10 http://archive.ubuntu.com/ubuntu focal-backports InRelease [108 kB]\n",
      "Fetched 222 kB in 1s (267 kB/s)     \n",
      "Reading package lists... Done\n"
     ]
    }
   ],
   "source": [
    "! sudo apt-get update"
   ]
  },
  {
   "cell_type": "code",
   "execution_count": 35,
   "metadata": {},
   "outputs": [
    {
     "name": "stdout",
     "output_type": "stream",
     "text": [
      "Reading package lists... Done\n",
      "Building dependency tree       \n",
      "Reading state information... Done\n",
      "docker-ce-cli is already the newest version (5:20.10.16~3-0~ubuntu-focal).\n",
      "docker-ce-cli set to manually installed.\n",
      "The following additional packages will be installed:\n",
      "  apparmor docker-ce-rootless-extras pigz slirp4netns\n",
      "Suggested packages:\n",
      "  apparmor-profiles-extra apparmor-utils aufs-tools cgroupfs-mount\n",
      "  | cgroup-lite\n",
      "The following NEW packages will be installed:\n",
      "  apparmor containerd.io docker-ce docker-ce-rootless-extras\n",
      "  docker-compose-plugin pigz slirp4netns\n",
      "0 upgraded, 7 newly installed, 0 to remove and 25 not upgraded.\n",
      "Need to get 64.5 MB of archives.\n",
      "After this operation, 277 MB of additional disk space will be used.\n",
      "Do you want to continue? [Y/n] ^C\n"
     ]
    }
   ],
   "source": [
    "!sudo apt-get install docker-ce docker-ce-cli containerd.io docker-compose-plugin"
   ]
  },
  {
   "cell_type": "code",
   "execution_count": 36,
   "metadata": {},
   "outputs": [
    {
     "name": "stdout",
     "output_type": "stream",
     "text": [
      " docker-ce | 5:20.10.16~3-0~ubuntu-focal | https://download.docker.com/linux/ubuntu focal/stable amd64 Packages\n",
      " docker-ce | 5:20.10.15~3-0~ubuntu-focal | https://download.docker.com/linux/ubuntu focal/stable amd64 Packages\n",
      " docker-ce | 5:20.10.14~3-0~ubuntu-focal | https://download.docker.com/linux/ubuntu focal/stable amd64 Packages\n",
      " docker-ce | 5:20.10.13~3-0~ubuntu-focal | https://download.docker.com/linux/ubuntu focal/stable amd64 Packages\n",
      " docker-ce | 5:20.10.12~3-0~ubuntu-focal | https://download.docker.com/linux/ubuntu focal/stable amd64 Packages\n",
      " docker-ce | 5:20.10.11~3-0~ubuntu-focal | https://download.docker.com/linux/ubuntu focal/stable amd64 Packages\n",
      " docker-ce | 5:20.10.10~3-0~ubuntu-focal | https://download.docker.com/linux/ubuntu focal/stable amd64 Packages\n",
      " docker-ce | 5:20.10.9~3-0~ubuntu-focal | https://download.docker.com/linux/ubuntu focal/stable amd64 Packages\n",
      " docker-ce | 5:20.10.8~3-0~ubuntu-focal | https://download.docker.com/linux/ubuntu focal/stable amd64 Packages\n",
      " docker-ce | 5:20.10.7~3-0~ubuntu-focal | https://download.docker.com/linux/ubuntu focal/stable amd64 Packages\n",
      " docker-ce | 5:20.10.6~3-0~ubuntu-focal | https://download.docker.com/linux/ubuntu focal/stable amd64 Packages\n",
      " docker-ce | 5:20.10.5~3-0~ubuntu-focal | https://download.docker.com/linux/ubuntu focal/stable amd64 Packages\n",
      " docker-ce | 5:20.10.4~3-0~ubuntu-focal | https://download.docker.com/linux/ubuntu focal/stable amd64 Packages\n",
      " docker-ce | 5:20.10.3~3-0~ubuntu-focal | https://download.docker.com/linux/ubuntu focal/stable amd64 Packages\n",
      " docker-ce | 5:20.10.2~3-0~ubuntu-focal | https://download.docker.com/linux/ubuntu focal/stable amd64 Packages\n",
      " docker-ce | 5:20.10.1~3-0~ubuntu-focal | https://download.docker.com/linux/ubuntu focal/stable amd64 Packages\n",
      " docker-ce | 5:20.10.0~3-0~ubuntu-focal | https://download.docker.com/linux/ubuntu focal/stable amd64 Packages\n",
      " docker-ce | 5:19.03.15~3-0~ubuntu-focal | https://download.docker.com/linux/ubuntu focal/stable amd64 Packages\n",
      " docker-ce | 5:19.03.14~3-0~ubuntu-focal | https://download.docker.com/linux/ubuntu focal/stable amd64 Packages\n",
      " docker-ce | 5:19.03.13~3-0~ubuntu-focal | https://download.docker.com/linux/ubuntu focal/stable amd64 Packages\n",
      " docker-ce | 5:19.03.12~3-0~ubuntu-focal | https://download.docker.com/linux/ubuntu focal/stable amd64 Packages\n",
      " docker-ce | 5:19.03.11~3-0~ubuntu-focal | https://download.docker.com/linux/ubuntu focal/stable amd64 Packages\n",
      " docker-ce | 5:19.03.10~3-0~ubuntu-focal | https://download.docker.com/linux/ubuntu focal/stable amd64 Packages\n",
      " docker-ce | 5:19.03.9~3-0~ubuntu-focal | https://download.docker.com/linux/ubuntu focal/stable amd64 Packages\n"
     ]
    }
   ],
   "source": [
    "!apt-cache madison docker-ce"
   ]
  },
  {
   "cell_type": "code",
   "execution_count": 37,
   "metadata": {},
   "outputs": [
    {
     "name": "stdout",
     "output_type": "stream",
     "text": [
      "Reading package lists... Done\n",
      "Building dependency tree       \n",
      "Reading state information... Done\n",
      "containerd.io is already the newest version (1.6.4-1).\n",
      "docker-ce-cli is already the newest version (5:20.10.16~3-0~ubuntu-focal).\n",
      "docker-ce is already the newest version (5:20.10.16~3-0~ubuntu-focal).\n",
      "docker-compose-plugin is already the newest version (2.5.0~ubuntu-focal).\n",
      "0 upgraded, 0 newly installed, 0 to remove and 25 not upgraded.\n"
     ]
    }
   ],
   "source": [
    "!sudo apt-get install docker-ce=\"5:20.10.16~3-0~ubuntu-focal\"  docker-ce-cli=\"5:20.10.16~3-0~ubuntu-focal\" containerd.io docker-compose-plugin"
   ]
  },
  {
   "cell_type": "code",
   "execution_count": 38,
   "metadata": {},
   "outputs": [
    {
     "name": "stdout",
     "output_type": "stream",
     "text": [
      "Unable to find image 'hello-world:latest' locally\n",
      "latest: Pulling from library/hello-world\n",
      "\n",
      "\u001b[1B9710123e: Pull complete 479kB/2.479kBB\u001b[1A\u001b[2KDigest: sha256:80f31da1ac7b312ba29d65080fddf797dd76acfb870e677f390d5acba9741b17\n",
      "Status: Downloaded newer image for hello-world:latest\n",
      "\n",
      "Hello from Docker!\n",
      "This message shows that your installation appears to be working correctly.\n",
      "\n",
      "To generate this message, Docker took the following steps:\n",
      " 1. The Docker client contacted the Docker daemon.\n",
      " 2. The Docker daemon pulled the \"hello-world\" image from the Docker Hub.\n",
      "    (amd64)\n",
      " 3. The Docker daemon created a new container from that image which runs the\n",
      "    executable that produces the output you are currently reading.\n",
      " 4. The Docker daemon streamed that output to the Docker client, which sent it\n",
      "    to your terminal.\n",
      "\n",
      "To try something more ambitious, you can run an Ubuntu container with:\n",
      " $ docker run -it ubuntu bash\n",
      "\n",
      "Share images, automate workflows, and more with a free Docker ID:\n",
      " https://hub.docker.com/\n",
      "\n",
      "For more examples and ideas, visit:\n",
      " https://docs.docker.com/get-started/\n",
      "\n"
     ]
    }
   ],
   "source": [
    "!sudo docker run hello-world"
   ]
  },
  {
   "cell_type": "code",
   "execution_count": 39,
   "metadata": {},
   "outputs": [
    {
     "name": "stdout",
     "output_type": "stream",
     "text": [
      "Unable to find image 'ubuntu:latest' locally\n",
      "latest: Pulling from library/ubuntu\n",
      "\n",
      "\u001b[1BDigest: sha256:26c68657ccce2cb0a31b330cb0be2b5e108d467f641c62e13ab40cbec258c68d[1A\u001b[2K\u001b[1A\u001b[2K\u001b[1A\u001b[2K\u001b[1A\u001b[2K\u001b[1A\u001b[2K\u001b[1A\u001b[2K\n",
      "Status: Downloaded newer image for ubuntu:latest\n",
      "\u001b[?2004hoot@fa7d74ee3a69: /\u0007root@fa7d74ee3a69:/# 9:/# ^C\u001b[?2004l\n",
      "\u001b[?2004l\n",
      "\u001b[?2004h\u001b]0;root@fa7d74ee3a69: /\u0007root@fa7d74ee3a69:/# "
     ]
    }
   ],
   "source": [
    "!docker run -it ubuntu bash"
   ]
  },
  {
   "cell_type": "code",
   "execution_count": 41,
   "metadata": {},
   "outputs": [
    {
     "name": "stdout",
     "output_type": "stream",
     "text": [
      "\n",
      "Hello from Docker!\n",
      "This message shows that your installation appears to be working correctly.\n",
      "\n",
      "To generate this message, Docker took the following steps:\n",
      " 1. The Docker client contacted the Docker daemon.\n",
      " 2. The Docker daemon pulled the \"hello-world\" image from the Docker Hub.\n",
      "    (amd64)\n",
      " 3. The Docker daemon created a new container from that image which runs the\n",
      "    executable that produces the output you are currently reading.\n",
      " 4. The Docker daemon streamed that output to the Docker client, which sent it\n",
      "    to your terminal.\n",
      "\n",
      "To try something more ambitious, you can run an Ubuntu container with:\n",
      " $ docker run -it ubuntu bash\n",
      "\n",
      "Share images, automate workflows, and more with a free Docker ID:\n",
      " https://hub.docker.com/\n",
      "\n",
      "For more examples and ideas, visit:\n",
      " https://docs.docker.com/get-started/\n",
      "\n"
     ]
    }
   ],
   "source": [
    "!sudo docker run hello-world"
   ]
  },
  {
   "cell_type": "code",
   "execution_count": 42,
   "metadata": {},
   "outputs": [
    {
     "name": "stdout",
     "output_type": "stream",
     "text": [
      "/workspace/AirflowDAG\n"
     ]
    }
   ],
   "source": [
    "!pwd"
   ]
  },
  {
   "cell_type": "code",
   "execution_count": 43,
   "metadata": {},
   "outputs": [
    {
     "name": "stdout",
     "output_type": "stream",
     "text": [
      "no configuration file provided: not found\n"
     ]
    }
   ],
   "source": [
    "!docker-compose up -d"
   ]
  },
  {
   "cell_type": "code",
   "execution_count": 52,
   "metadata": {},
   "outputs": [],
   "source": [
    "!cd airflow-tutorial/"
   ]
  },
  {
   "cell_type": "code",
   "execution_count": 53,
   "metadata": {},
   "outputs": [
    {
     "name": "stdout",
     "output_type": "stream",
     "text": [
      "/workspace/AirflowDAG\n"
     ]
    }
   ],
   "source": [
    "!pwd"
   ]
  },
  {
   "cell_type": "markdown",
   "metadata": {},
   "source": [
    "# new file"
   ]
  },
  {
   "cell_type": "code",
   "execution_count": 54,
   "metadata": {},
   "outputs": [],
   "source": [
    "!mkdir airflow-docker\n",
    "!cd airflow-docker"
   ]
  },
  {
   "cell_type": "code",
   "execution_count": 55,
   "metadata": {},
   "outputs": [
    {
     "name": "stdout",
     "output_type": "stream",
     "text": [
      "/workspace/AirflowDAG\n"
     ]
    }
   ],
   "source": [
    "!pwd"
   ]
  },
  {
   "cell_type": "code",
   "execution_count": null,
   "metadata": {},
   "outputs": [],
   "source": [
    "curl -LfO \"https://airflow.apache.org/docs/apache-airflow/stable/docker-compose.yaml\""
   ]
  },
  {
   "cell_type": "code",
   "execution_count": 56,
   "metadata": {},
   "outputs": [],
   "source": [
    "!mkdir ./dags ./plugins ./logs"
   ]
  },
  {
   "cell_type": "code",
   "execution_count": null,
   "metadata": {},
   "outputs": [],
   "source": [
    "!docker-compose up airflow-init"
   ]
  },
  {
   "cell_type": "code",
   "execution_count": 57,
   "metadata": {},
   "outputs": [],
   "source": [
    "!echo -e \"AIRFLOW_UID=$(id -u)\\nAIRFLOW_GID=0\" > .env"
   ]
  },
  {
   "cell_type": "code",
   "execution_count": null,
   "metadata": {},
   "outputs": [],
   "source": []
  }
 ],
 "metadata": {
  "interpreter": {
   "hash": "110cc1dee26208153f2972f08a2ad52b6a56238dc66d48e87fb757ef2996db56"
  },
  "kernelspec": {
   "display_name": "Python 3.8.13 64-bit ('3.8.13')",
   "language": "python",
   "name": "python3"
  },
  "language_info": {
   "codemirror_mode": {
    "name": "ipython",
    "version": 3
   },
   "file_extension": ".py",
   "mimetype": "text/x-python",
   "name": "python",
   "nbconvert_exporter": "python",
   "pygments_lexer": "ipython3",
   "version": "3.8.13"
  },
  "orig_nbformat": 4
 },
 "nbformat": 4,
 "nbformat_minor": 2
}
